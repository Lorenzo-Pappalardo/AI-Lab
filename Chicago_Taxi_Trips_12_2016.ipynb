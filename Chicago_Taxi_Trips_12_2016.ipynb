{
 "cells": [
  {
   "cell_type": "code",
   "execution_count": 1,
   "id": "front-zimbabwe",
   "metadata": {},
   "outputs": [],
   "source": [
    "import pandas as pd\n",
    "from pandas.core.frame import DataFrame\n",
    "import matplotlib.pyplot as plt\n",
    "from IPython.display import display, Markdown"
   ]
  },
  {
   "cell_type": "code",
   "execution_count": 2,
   "id": "applicable-township",
   "metadata": {},
   "outputs": [],
   "source": [
    "def read_csv() -> DataFrame:\n",
    "    return pd.read_csv('chicago_taxi_trips_2016_12.csv',\n",
    "                       parse_dates=True,\n",
    "                       infer_datetime_format=True)"
   ]
  },
  {
   "cell_type": "code",
   "execution_count": 3,
   "id": "proud-spyware",
   "metadata": {},
   "outputs": [],
   "source": [
    "def get_mode_stats(df) -> list:\n",
    "    res = []\n",
    "    for index, column in enumerate(df):\n",
    "        frequencies = df[column].value_counts()\n",
    "        res.append(\n",
    "            {\n",
    "                'col': column,\n",
    "                'first_mode': frequencies.index[0],\n",
    "                'fm_freq': frequencies[0],\n",
    "                'fm_perc': (frequencies[0] / len(df)) * 100,\n",
    "                'second_mode': frequencies.index[1],\n",
    "                'sm_freq': frequencies[1],\n",
    "                'sm_perc': (frequencies[1] / len(df)) * 100\n",
    "            })\n",
    "    return res"
   ]
  },
  {
   "cell_type": "code",
   "execution_count": 4,
   "id": "academic-phenomenon",
   "metadata": {},
   "outputs": [],
   "source": [
    "def get_stats(df, numeric = True):\n",
    "    stats = pd.DataFrame(df.describe(include='all'))\n",
    "    if (numeric):\n",
    "        return {\n",
    "            'val_num': len(df),\n",
    "            'missing_values_perc': 100-(stats.loc['count']/len(df))*100,\n",
    "            'cardinality': df.nunique(),\n",
    "            'min_val': stats.loc['min'],\n",
    "            'max_val': stats.loc['max'],\n",
    "            'first_quartile': stats.loc['25%'],\n",
    "            'third_quartile': stats.loc['75%'],\n",
    "            'average': stats.loc['mean'],\n",
    "            'median': stats.loc['50%'],\n",
    "            'st_dev': stats.loc['std']\n",
    "            }\n",
    "    else:\n",
    "        return {\n",
    "            'val_num': len(df),\n",
    "            'missing_values_perc': 100-(stats.loc['count']/len(df))*100,\n",
    "            'cardinality': df.nunique(),\n",
    "            'modes': get_mode_stats(df)\n",
    "            }\n",
    "        "
   ]
  },
  {
   "cell_type": "code",
   "execution_count": 5,
   "id": "exceptional-titanium",
   "metadata": {},
   "outputs": [
    {
     "ename": "IndentationError",
     "evalue": "expected an indented block (<ipython-input-5-9ef4873bd567>, line 21)",
     "output_type": "error",
     "traceback": [
      "\u001b[1;36m  File \u001b[1;32m\"<ipython-input-5-9ef4873bd567>\"\u001b[1;36m, line \u001b[1;32m21\u001b[0m\n\u001b[1;33m    else:\u001b[0m\n\u001b[1;37m         ^\u001b[0m\n\u001b[1;31mIndentationError\u001b[0m\u001b[1;31m:\u001b[0m expected an indented block\n"
     ]
    }
   ],
   "source": [
    "def print_plots(data, numeric = True):\n",
    "    if (numeric):\n",
    "        data['missing_values_perc'].plot(kind='hist', title='Percentage of missing values')\n",
    "        plt.show()\n",
    "        data['cardinality'].plot(kind='hist', title='Cardinality')\n",
    "        plt.show()\n",
    "        data['min_val'].plot(kind='hist', title='Minimum values')\n",
    "        plt.show()\n",
    "        data['max_val'].plot(kind='hist', title='Maximum values')\n",
    "        plt.show()\n",
    "        data['first_quartile'].plot(kind='hist', title='First quartile')\n",
    "        plt.show()\n",
    "        data['third_quartile'].plot(kind='hist', title='Third quartile')\n",
    "        plt.show()\n",
    "        data['average'].plot(kind='hist', title='Mean')\n",
    "        plt.show()\n",
    "        data['median'].plot(kind='hist', title='Median')\n",
    "        plt.show()\n",
    "        data['st_dev'].plot(kind='hist', title='Standard deviation')\n",
    "        plt.show()\n",
    "    else:\n",
    "        pass"
   ]
  },
  {
   "cell_type": "code",
   "execution_count": null,
   "id": "bridal-labor",
   "metadata": {},
   "outputs": [],
   "source": [
    "def main() -> None:\n",
    "    df: DataFrame = read_csv()\n",
    "\n",
    "    numerics_df: DataFrame = df.select_dtypes(include='number')\n",
    "    categoricals_df: DataFrame = df.select_dtypes(exclude='number')\n",
    "\n",
    "    numerics = get_stats(numerics_df)\n",
    "    categoricals = get_stats(categoricals_df, False)\n",
    "\n",
    "    display(Markdown('# Continuous values plot'))\n",
    "    print_plots(numerics)\n",
    "    display(Markdown('# Categorical values plot'))\n",
    "    print_plots(categoricals, False)"
   ]
  },
  {
   "cell_type": "code",
   "execution_count": null,
   "id": "essential-moore",
   "metadata": {
    "scrolled": true
   },
   "outputs": [],
   "source": [
    "if (__name__ == '__main__'):\n",
    "    main()"
   ]
  }
 ],
 "metadata": {
  "kernelspec": {
   "display_name": "Python 3",
   "language": "python",
   "name": "python3"
  },
  "language_info": {
   "codemirror_mode": {
    "name": "ipython",
    "version": 3
   },
   "file_extension": ".py",
   "mimetype": "text/x-python",
   "name": "python",
   "nbconvert_exporter": "python",
   "pygments_lexer": "ipython3",
   "version": "3.9.0"
  }
 },
 "nbformat": 4,
 "nbformat_minor": 5
}