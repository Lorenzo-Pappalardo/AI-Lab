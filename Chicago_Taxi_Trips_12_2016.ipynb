{
 "cells": [
  {
   "cell_type": "code",
   "execution_count": 1,
   "id": "front-zimbabwe",
   "metadata": {},
   "outputs": [],
   "source": [
    "import pandas as pd\n",
    "from pandas.core.frame import DataFrame\n",
    "import matplotlib.pyplot as plt"
   ]
  },
  {
   "cell_type": "code",
   "execution_count": 2,
   "id": "applicable-township",
   "metadata": {},
   "outputs": [],
   "source": [
    "def read_csv() -> DataFrame:\n",
    "    return pd.read_csv('chicago_taxi_trips_2016_12.csv',\n",
    "                       parse_dates=True,\n",
    "                       infer_datetime_format=True)"
   ]
  },
  {
   "cell_type": "code",
   "execution_count": 3,
   "id": "proud-spyware",
   "metadata": {},
   "outputs": [],
   "source": [
    "def get_mode_stats(df):\n",
    "    res = []\n",
    "    for index, column in enumerate(df):\n",
    "        frequencies = df[column].value_counts()\n",
    "        res.append(\n",
    "            {\n",
    "                'col': column,\n",
    "                'first_mode': frequencies.index[0],\n",
    "                'fm_freq': frequencies[0],\n",
    "                'fm_perc': (frequencies[0] / len(df)) * 100,\n",
    "                'second_mode': frequencies.index[1],\n",
    "                'sm_freq': frequencies[1],\n",
    "                'sm_perc': (frequencies[1] / len(df)) * 100\n",
    "            })\n",
    "    return res"
   ]
  },
  {
   "cell_type": "code",
   "execution_count": 4,
   "id": "bridal-labor",
   "metadata": {},
   "outputs": [],
   "source": [
    "def main() -> None:\n",
    "    df: DataFrame = read_csv()\n",
    "\n",
    "    numerics_df: DataFrame = df.select_dtypes(include='number')\n",
    "    categoricals_df: DataFrame = df.select_dtypes(exclude='number')\n",
    "\n",
    "    numerics_stats: DataFrame = pd.DataFrame(\n",
    "        numerics_df.describe(include='all'))\n",
    "    categoricals_stats: DataFrame = pd.DataFrame(\n",
    "        categoricals_df.describe(include='all'))\n",
    "\n",
    "    numerics = {\n",
    "        'val_num': len(numerics_df),\n",
    "        'missing_values_perc': 100-(numerics_stats.loc['count']/len(numerics_df))*100,\n",
    "        'cardinality': numerics_df.nunique(),\n",
    "        'min_val': numerics_stats.loc['min'],\n",
    "        'max_val': numerics_stats.loc['max'],\n",
    "        'first_quartile': numerics_stats.loc['25%'],\n",
    "        'third_quartile': numerics_stats.loc['75%'],\n",
    "        'average': numerics_stats.loc['mean'],\n",
    "        'median': numerics_stats.loc['50%'],\n",
    "        'st_dev': numerics_stats.loc['std']\n",
    "    }\n",
    "\n",
    "    categoricals = {\n",
    "        'val_num': len(categoricals_df),\n",
    "        'missing_values_perc': 100-(categoricals_stats.loc['count']/len(categoricals_df))*100,\n",
    "        'cardinality': categoricals_df.nunique(),\n",
    "        'modes': get_mode_stats(categoricals_df)\n",
    "    }\n",
    "    \n",
    "    numerics['missing_values_perc'].plot(kind='hist', title='percentage of missing values')\n",
    "    plt.show()\n",
    "    numerics['cardinality'].plot(kind='hist', title='cardinality')\n",
    "    plt.show()"
   ]
  },
  {
   "cell_type": "code",
   "execution_count": 5,
   "id": "essential-moore",
   "metadata": {
    "scrolled": true
   },
   "outputs": [
    {
     "data": {
      "image/png": "[encoded data removed]",
      "text/plain": [
       "<Figure size 432x288 with 1 Axes>"
      ]
     },
     "metadata": {
      "needs_background": "light"
     },
     "output_type": "display_data"
    },
    {
     "data": {
      "image/png": "[encoded data removed]",
      "text/plain": [
       "<Figure size 432x288 with 1 Axes>"
      ]
     },
     "metadata": {
      "needs_background": "light"
     },
     "output_type": "display_data"
    }
   ],
   "source": [
    "if (__name__ == '__main__'):\n",
    "    main()"
   ]
  }
 ],
 "metadata": {
  "kernelspec": {
   "display_name": "Python 3",
   "language": "python",
   "name": "python3"
  },
  "language_info": {
   "codemirror_mode": {
    "name": "ipython",
    "version": 3
   },
   "file_extension": ".py",
   "mimetype": "text/x-python",
   "name": "python",
   "nbconvert_exporter": "python",
   "pygments_lexer": "ipython3",
   "version": "3.9.2"
  }
 },
 "nbformat": 4,
 "nbformat_minor": 5
}
