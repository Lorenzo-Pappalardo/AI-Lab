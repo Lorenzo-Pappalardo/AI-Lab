{
 "cells": [
  {
   "cell_type": "code",
   "execution_count": 1,
   "id": "front-zimbabwe",
   "metadata": {},
   "outputs": [],
   "source": [
    "import pandas as pd\n",
    "from pandas.core.frame import DataFrame\n",
    "import matplotlib.pyplot as plt"
   ]
  },
  {
   "cell_type": "code",
   "execution_count": 2,
   "id": "applicable-township",
   "metadata": {},
   "outputs": [],
   "source": [
    "def read_csv() -> DataFrame:\n",
    "    return pd.read_csv('chicago_taxi_trips_2016_12.csv',\n",
    "                       parse_dates=True,\n",
    "                       infer_datetime_format=True)"
   ]
  },
  {
   "cell_type": "code",
   "execution_count": 3,
   "id": "proud-spyware",
   "metadata": {},
   "outputs": [],
   "source": [
    "def get_mode_stats(df) -> list:\n",
    "    res = []\n",
    "    for index, column in enumerate(df):\n",
    "        frequencies = df[column].value_counts()\n",
    "        res.append(\n",
    "            {\n",
    "                'col': column,\n",
    "                'first_mode': frequencies.index[0],\n",
    "                'fm_freq': frequencies[0],\n",
    "                'fm_perc': (frequencies[0] / len(df)) * 100,\n",
    "                'second_mode': frequencies.index[1],\n",
    "                'sm_freq': frequencies[1],\n",
    "                'sm_perc': (frequencies[1] / len(df)) * 100\n",
    "            })\n",
    "    return res"
   ]
  },
  {
   "cell_type": "code",
   "execution_count": 4,
   "id": "academic-phenomenon",
   "metadata": {},
   "outputs": [],
   "source": [
    "def get_stats(df, numeric = True):\n",
    "    stats = pd.DataFrame(df.describe(include='all'))\n",
    "    if (numeric):\n",
    "        return {\n",
    "            'val_num': len(df),\n",
    "            'missing_values_perc': 100-(stats.loc['count']/len(df))*100,\n",
    "            'cardinality': df.nunique(),\n",
    "            'min_val': stats.loc['min'],\n",
    "            'max_val': stats.loc['max'],\n",
    "            'first_quartile': stats.loc['25%'],\n",
    "            'third_quartile': stats.loc['75%'],\n",
    "            'average': stats.loc['mean'],\n",
    "            'median': stats.loc['50%'],\n",
    "            'st_dev': stats.loc['std']\n",
    "            }\n",
    "    else:\n",
    "        return {\n",
    "            'val_num': len(df),\n",
    "            'missing_values_perc': 100-(stats.loc['count']/len(df))*100,\n",
    "            'cardinality': df.nunique(),\n",
    "            'modes': get_mode_stats(df)\n",
    "            }\n",
    "        "
   ]
  },
  {
   "cell_type": "code",
   "execution_count": 5,
   "id": "bridal-labor",
   "metadata": {},
   "outputs": [],
   "source": [
    "def main() -> None:\n",
    "    df: DataFrame = read_csv()\n",
    "\n",
    "    numerics_df: DataFrame = df.select_dtypes(include='number')\n",
    "    categoricals_df: DataFrame = df.select_dtypes(exclude='number')\n",
    "\n",
    "    numerics = get_stats(numerics_df)\n",
    "    categoricals = get_stats(categoricals_df, False)\n",
    "    \n",
    "    numerics['missing_values_perc'].plot(kind='hist', title='Percentage of missing values')\n",
    "    plt.show()\n",
    "    numerics['cardinality'].plot(kind='hist', title='Cardinality')\n",
    "    plt.show()\n",
    "    numerics['min_val'].plot(kind='hist', title='Minimum values')\n",
    "    plt.show()\n",
    "    numerics['max_val'].plot(kind='hist', title='Maximum values')\n",
    "    plt.show()\n",
    "    numerics['first_quartile'].plot(kind='hist', title='First quartile')\n",
    "    plt.show()\n",
    "    numerics['third_quartile'].plot(kind='hist', title='Third quartile')\n",
    "    plt.show()\n",
    "    numerics['average'].plot(kind='hist', title='Mean')\n",
    "    plt.show()\n",
    "    numerics['median'].plot(kind='hist', title='Median')\n",
    "    plt.show()\n",
    "    numerics['st_dev'].plot(kind='hist', title='Standard deviation')\n",
    "    plt.show()"
   ]
  },
  {
   "cell_type": "code",
   "execution_count": 6,
   "id": "essential-moore",
   "metadata": {
    "scrolled": true
   },
   "outputs": [
    {
     "name": "stdout",
     "output_type": "stream",
     "text": [
      "            taxi_id  trip_seconds    trip_miles  pickup_census_tract  \\\n",
      "count  1.245094e+06  1.245614e+06  1.245690e+06                  0.0   \n",
      "mean   4.361896e+03  7.565623e+02  2.722639e+00                  NaN   \n",
      "std    2.511681e+03  1.090555e+03  4.914539e+00                  NaN   \n",
      "min    0.000000e+00  0.000000e+00  0.000000e+00                  NaN   \n",
      "25%    2.229000e+03  3.600000e+02  4.000000e-01                  NaN   \n",
      "50%    4.316000e+03  5.400000e+02  1.100000e+00                  NaN   \n",
      "75%    6.524000e+03  9.000000e+02  2.400000e+00                  NaN   \n",
      "max    8.760000e+03  8.634000e+04  9.000000e+02                  NaN   \n",
      "\n",
      "       dropoff_census_tract  pickup_community_area  dropoff_community_area  \\\n",
      "count          787242.00000           1.131361e+06            1.111901e+06   \n",
      "mean              514.28259           2.281085e+01            2.106795e+01   \n",
      "std               357.14152           1.879816e+01            1.694041e+01   \n",
      "min                 2.00000           1.000000e+00            1.000000e+00   \n",
      "25%               225.00000           8.000000e+00            8.000000e+00   \n",
      "50%               504.00000           2.400000e+01            1.600000e+01   \n",
      "75%               807.00000           3.200000e+01            3.200000e+01   \n",
      "max              1140.00000           7.700000e+01            7.700000e+01   \n",
      "\n",
      "               fare          tips         tolls        extras    trip_total  \\\n",
      "count  1.245689e+06  1.245689e+06  1.245689e+06  1.245689e+06  1.245689e+06   \n",
      "mean   1.240251e+01  1.376216e+00  4.248508e-03  9.401077e-01  1.481602e+01   \n",
      "std    2.153353e+01  2.654190e+00  1.260149e+00  1.523253e+01  2.784119e+01   \n",
      "min    0.000000e+00  0.000000e+00  0.000000e+00  0.000000e+00  0.000000e+00   \n",
      "25%    6.000000e+00  0.000000e+00  0.000000e+00  0.000000e+00  7.000000e+00   \n",
      "50%    8.000000e+00  0.000000e+00  0.000000e+00  0.000000e+00  9.500000e+00   \n",
      "75%    1.225000e+01  2.000000e+00  0.000000e+00  1.000000e+00  1.425000e+01   \n",
      "max    9.026310e+03  4.220000e+02  8.000000e+02  6.666660e+03  9.026310e+03   \n",
      "\n",
      "             company  pickup_latitude  pickup_longitude  dropoff_latitude  \\\n",
      "count  671305.000000     1.131368e+06      1.131368e+06      1.113250e+06   \n",
      "mean       83.407703     3.861354e+02      4.409327e+02      3.964387e+02   \n",
      "std        38.243598     2.540746e+02      1.890504e+02      2.560480e+02   \n",
      "min         2.000000     5.000000e+00      1.000000e+00      0.000000e+00   \n",
      "25%        82.000000     1.700000e+02      3.460000e+02      1.700000e+02   \n",
      "50%       101.000000     3.950000e+02      4.780000e+02      4.110000e+02   \n",
      "75%       107.000000     6.040000e+02      6.100000e+02      6.810000e+02   \n",
      "max       118.000000     7.840000e+02      7.850000e+02      7.840000e+02   \n",
      "\n",
      "       dropoff_longitude  \n",
      "count       1.113250e+06  \n",
      "mean        4.388257e+02  \n",
      "std         1.987694e+02  \n",
      "min         1.000000e+00  \n",
      "25%         2.700000e+02  \n",
      "50%         4.780000e+02  \n",
      "75%         6.100000e+02  \n",
      "max         7.850000e+02  \n",
      "       trip_start_timestamp  trip_end_timestamp payment_type\n",
      "count               1245712             1245630      1245712\n",
      "unique                 2976                2983            8\n",
      "top     2016-12-16 19:00:00  2016-12-9 19:15:00         Cash\n",
      "freq                   1201                1224       711456\n"
     ]
    }
   ],
   "source": [
    "if (__name__ == '__main__'):\n",
    "    main()"
   ]
  }
 ],
 "metadata": {
  "kernelspec": {
   "display_name": "Python 3",
   "language": "python",
   "name": "python3"
  },
  "language_info": {
   "codemirror_mode": {
    "name": "ipython",
    "version": 3
   },
   "file_extension": ".py",
   "mimetype": "text/x-python",
   "name": "python",
   "nbconvert_exporter": "python",
   "pygments_lexer": "ipython3",
   "version": "3.9.2"
  }
 },
 "nbformat": 4,
 "nbformat_minor": 5
}